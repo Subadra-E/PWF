{
 "cells": [
  {
   "cell_type": "code",
   "execution_count": 1,
   "id": "d9688336",
   "metadata": {
    "id": "d9688336"
   },
   "outputs": [],
   "source": [
    "import numpy as np\n",
    "# Importing standard Qiskit libraries\n",
    "from qiskit import QuantumCircuit, transpile, Aer, IBMQ\n",
    "from qiskit.tools.jupyter import *\n",
    "from qiskit.visualization import *"
   ]
  },
  {
   "cell_type": "code",
   "execution_count": 2,
   "id": "ee2ec27c",
   "metadata": {
    "id": "ee2ec27c"
   },
   "outputs": [],
   "source": [
    "#Importación de librerías\n",
    "\n",
    "#!pip install qiskit ipywidgets    correr esta línea de primero si se trabaja en google collab\n",
    "#Importación de qiskit\n",
    "from qiskit import *\n",
    "\n",
    "%matplotlib inline\n",
    "from matplotlib import *\n",
    "\n",
    "#Se importa quantum_info para poder trabajar con herramientas útiles como las matríces de pauli y elementos para trabajar\n",
    "# con operadores.\n",
    "import qiskit.quantum_info as qi\n",
    "from qiskit.quantum_info import *\n",
    "\n",
    "#Simplemente para que no se vean los warning\n",
    "import warnings\n",
    "warnings.filterwarnings(\"ignore\", category=UserWarning)\n",
    "\n",
    "#Librerías matemáticas importantes\n",
    "import numpy as np\n",
    "import matplotlib.pyplot as plt\n",
    "import scipy"
   ]
  },
  {
   "cell_type": "code",
   "execution_count": 3,
   "id": "ebbb998e",
   "metadata": {},
   "outputs": [
    {
     "data": {
      "text/plain": [
       "array([[0.+0.j, 0.+0.j, 0.+0.j, 0.+0.j, 0.+0.j, 0.+0.j, 1.+0.j, 0.+0.j],\n",
       "       [0.+0.j, 0.+0.j, 0.+0.j, 0.+0.j, 0.+0.j, 0.+0.j, 0.+0.j, 1.+0.j],\n",
       "       [0.+0.j, 0.+0.j, 0.+0.j, 0.+0.j, 1.+0.j, 0.+0.j, 0.+0.j, 0.+0.j],\n",
       "       [0.+0.j, 0.+0.j, 0.+0.j, 0.+0.j, 0.+0.j, 1.+0.j, 0.+0.j, 0.+0.j],\n",
       "       [0.+0.j, 0.+0.j, 1.+0.j, 0.+0.j, 0.+0.j, 0.+0.j, 0.+0.j, 0.+0.j],\n",
       "       [0.+0.j, 0.+0.j, 0.+0.j, 1.+0.j, 0.+0.j, 0.+0.j, 0.+0.j, 0.+0.j],\n",
       "       [1.+0.j, 0.+0.j, 0.+0.j, 0.+0.j, 0.+0.j, 0.+0.j, 0.+0.j, 0.+0.j],\n",
       "       [0.+0.j, 1.+0.j, 0.+0.j, 0.+0.j, 0.+0.j, 0.+0.j, 0.+0.j, 0.+0.j]])"
      ]
     },
     "execution_count": 3,
     "metadata": {},
     "output_type": "execute_result"
    }
   ],
   "source": [
    "qi.Pauli('XXI').to_matrix()"
   ]
  },
  {
   "cell_type": "markdown",
   "id": "b8c69836",
   "metadata": {},
   "source": [
    "# Energía para el modelo de Ising"
   ]
  },
  {
   "cell_type": "markdown",
   "id": "eaee601b",
   "metadata": {},
   "source": [
    "El Hamiltoniano que describe al modelo de Ising se puede ver mediante la siguiente ecuación\n",
    "$$ H = \\sum_i^n \\sigma_i^z \\sigma_{i+1}^z+  g \\sum_i^{n+1} \\sigma_i^x   .$$\n",
    "\n",
    "Entonces, es posible encontrar el valor promedio del hamiltoniano de la forma\n",
    "$$  < \\psi| H | \\psi> = \\sum_i^n <\\psi|\\sigma_i^z \\sigma_{i+1}^z|\\psi>  + g\\sum_i^{n+1}<\\psi| \\sigma_i^x |\\psi> $$\n",
    "\n",
    "que es el nivel de energía correspondiente a esa función de onda $| \\psi >$\n",
    "\n",
    "El siguiente código busca esa implementación"
   ]
  },
  {
   "cell_type": "code",
   "execution_count": 4,
   "id": "014466dc",
   "metadata": {},
   "outputs": [],
   "source": [
    "def energia_ising(qubits,statevec,g):\n",
    "    \"\"\"  Energia para el Hamiltoniano del modelo de Ising para una función de onda:\n",
    "    \n",
    "         Esta función calcula la energía o valor promedio del Hamiltoniano perteneciente al \n",
    "         modelo de Ising para una función de estado otorgada y una constante g también \n",
    "         arbitraria. \n",
    "    \n",
    "    Entrada(s): \n",
    "        statevec: vector de estado correspondiente a n-qubits que se están tratando. \n",
    "        g= constante real entera g como parte del Hamiltoniano\n",
    "    \n",
    "    \"\"\"\n",
    "    energia=0\n",
    "    \n",
    "    #Se itera por cada qubit hasta n-1 (sumatoria en sigmaz sigmaz+1)\n",
    "    for i in range(0,qubits-1):\n",
    "        \n",
    "        parop=['','','']                   \n",
    "        \n",
    "        #Iteración sobre cada i-ésimo agregando la Identidad en el producto tensorial para la sumatoria de sigmaz,sigmax\n",
    "        for j in range(0,i):\n",
    "            parop[0]= parop[0] + 'I'\n",
    "            parop[1]= parop[1] + 'I'\n",
    "\n",
    "        #Se agrega ZZ como X en cada iteración\n",
    "        parop[0] = parop[0] + 'ZZ'\n",
    "        parop[1] = parop[1] + 'X'\n",
    "\n",
    "        \n",
    "        #Se agrega el tensor con la identidad para completar la dimensión del esatdo\n",
    "        for w in range(i+2,qubits):\n",
    "            parop[0] = parop[0]+'I'\n",
    "        for q in range(i+1,qubits):\n",
    "            parop[1] = parop[1]+'I'\n",
    "            \n",
    "            \n",
    "        #Se encuentra el valor de energía para la i-ésima iteración, se suma al valor anterior\n",
    "        energia= energia + np.matmul( statevec,  np.matmul(qi.Pauli(parop[0]).to_matrix() , statevec) ) + g*np.matmul(statevec, np.matmul(qi.Pauli(parop[1]).to_matrix() , statevec) )\n",
    "        \n",
    "        #Ya que la sumatoria recorre la de sigmaz, falta agregar un último término de sigmax,aquí se agrega\n",
    "        if i==qubits-2:\n",
    "            for k in range(0,i+1):\n",
    "                parop[2]= parop[2] + 'I'\n",
    "            parop[2]= parop[2]+ 'X'\n",
    "            energia = energia + g*np.matmul(statevec, np.matmul(qi.Pauli(parop[2]).to_matrix(),statevec) ) #Se suma a la función de costo\n",
    "        \n",
    "          #Debugging\n",
    "#         print(parop[0],parop[1],parop[2])  \n",
    "#         print(energia)\n",
    "        \n",
    "    return energia"
   ]
  },
  {
   "cell_type": "code",
   "execution_count": 5,
   "id": "0811cfb4",
   "metadata": {
    "scrolled": true
   },
   "outputs": [
    {
     "data": {
      "text/plain": [
       "(104+0j)"
      ]
     },
     "execution_count": 5,
     "metadata": {},
     "output_type": "execute_result"
    }
   ],
   "source": [
    "#Si por ejeemplo se tiene un estado que representa a 2 qubits (este caso no esta normalizado, tomarlo en cuenta)\n",
    "#el código nos regresará su energía correspondiente\n",
    "statevec=np.array([1,2,3,4])\n",
    "energia_ising(2,statevec,2)"
   ]
  },
  {
   "cell_type": "markdown",
   "id": "4e33bfac",
   "metadata": {},
   "source": [
    "## Autovalores teóricos\n",
    "Tomando como esqueleto el código anterior, es posible crear el hamiltoniano y extraerle su autovalor mínimo. Con esto podemos comparar la energía encontrada con cada statevector y ver que tanto se acerca a la parte teórica. \n",
    "\n",
    "El código es el siguiente:"
   ]
  },
  {
   "cell_type": "code",
   "execution_count": 6,
   "id": "14b49a15",
   "metadata": {},
   "outputs": [],
   "source": [
    "def H_teo(qubits,g):\n",
    "    \"\"\"  Energia mínima para el Hamiltoniano de Ising:\n",
    "    \n",
    "         Esta función calcula el valor de energía mínima del Hamiltoniano de Ising para \n",
    "         un número dado de qubits y valor de constante g. \n",
    "         \n",
    "    Entrada(s): \n",
    "        qubits: número de qubits en el modelo de Ising. \n",
    "        g= constante real entera g como parte del Hamiltoniano\n",
    "    \n",
    "    \"\"\"\n",
    "    H=0\n",
    "    \n",
    "    #Se itera por cada qubit hasta n-1 (sumatoria en sigmaz sigmaz+1)\n",
    "    for i in range(0,qubits-1):\n",
    "        \n",
    "        parop=['','','']                   \n",
    "        \n",
    "        #Iteración sobre cada i-ésimo agregando la Identidad en el producto tensorial para la sumatoria de sigmaz,sigmax\n",
    "        for j in range(0,i):\n",
    "            parop[0]= parop[0] + 'I'\n",
    "            parop[1]= parop[1] + 'I'\n",
    "\n",
    "        #Se agrega ZZ como X en cada iteración\n",
    "        parop[0] = parop[0] + 'ZZ'\n",
    "        parop[1] = parop[1] + 'X'\n",
    "\n",
    "        \n",
    "        #Se agrega el tensor con la identidad para completar la dimensión del esatdo\n",
    "        for w in range(i+2,qubits):\n",
    "            parop[0] = parop[0]+'I'\n",
    "        for q in range(i+1,qubits):\n",
    "            parop[1] = parop[1]+'I'\n",
    "            \n",
    "            \n",
    "        #Se genera el hamiltoniano en base a los operadores anteriores\n",
    "        H= H + qi.Pauli(parop[0]).to_matrix() + g*qi.Pauli(parop[1]).to_matrix() \n",
    "        \n",
    "        #Ya que la sumatoria recorre la de sigmaz, falta agregar un último término de sigmax,aquí se agrega\n",
    "        if i==qubits-2:\n",
    "            for k in range(0,i+1):\n",
    "                parop[2]= parop[2] + 'I'\n",
    "            parop[2]= parop[2]+ 'X'\n",
    "            H = H + g*qi.Pauli(parop[2]).to_matrix() #Se suma el último qubit restante para este código. \n",
    "        \n",
    "    H= np.amin(np.linalg.eig(H.real)[0]) #Se tooma el autovalor mínimo, correspondiente al valor mínimo de energía\n",
    "        \n",
    "    return H\n"
   ]
  },
  {
   "cell_type": "markdown",
   "id": "a4b77dc8",
   "metadata": {},
   "source": [
    "# Generador de circuitos para n qubits"
   ]
  },
  {
   "cell_type": "markdown",
   "id": "02a7408c",
   "metadata": {},
   "source": [
    "Definiremos los parámetros theta que son interpretados como rotaciones en un circuito en el eje y, estos caracterizan por un vector $\\vec{\\theta}$, por lo que nuestro circuito dependerá de ese parámtetro. El código siguiente busca esa implementación"
   ]
  },
  {
   "cell_type": "code",
   "execution_count": 7,
   "id": "3945ec64",
   "metadata": {},
   "outputs": [],
   "source": [
    "def circ_nqubits(qubits,capas,parametros):\n",
    "  \"\"\" Circuito para modelo de Ising:\n",
    "  \n",
    "      La función circ_nqubits genera un circuito para un número n de qubits\n",
    "      con un número n de capas que el usuario desee implementar. Para esto es necesaria\n",
    "      una matriz con los parámetros theta de dimensión  qubits x capas. \n",
    "      \n",
    "  Entrada(s):\n",
    "      qubits: el número de qubits a analizar. \n",
    "      capas: el número de capas para el ansatz del circuito. \n",
    "      parámetros: vector de dimension capasxparametros conteniendo rotaciones.  \n",
    "  \n",
    "  Salida(s): \n",
    "      circ: objeto de tipo QuantumCircuit conteniendo las instrucciones del circuito cuántico para IBM, como Qiskit.\n",
    "      Statevector: vector de estado resultante del circuito.  \n",
    "  \n",
    "  \n",
    "  \"\"\"\n",
    "  parametros = np.transpose(np.reshape(parametros,(capas,qubits)))  #Se escribe nuestro vector de parámetros como una matriz. \n",
    "  circ=QuantumCircuit(qubits)              #Inicilización del circuito\n",
    "  \n",
    " \n",
    "  capflag=True                             #Condición inicial de la bandera de cada capa\n",
    "\n",
    "  for i in range(0,capas):\n",
    "        \n",
    "        flag1=True                         #Condiciones iniciales de las banderas para los cx\n",
    "        flag2=False\n",
    "        \n",
    "        \n",
    "        #Rotaciones parametrizadas al inicio de la capa\n",
    "        for j in range(0,qubits):\n",
    "             circ.ry(parametros[j][i],[j]) #Se aplica una rotación de las componentes de la matríz \n",
    "        \n",
    "        \n",
    "        #Revisión para la capa con bandera verdadera\n",
    "        if capflag==True:\n",
    "            #Se aplicará la cX a cada par de qubits, dejando uno como espacio. \n",
    "            for j in range(0,qubits-1):\n",
    "                  if flag1==True: \n",
    "                    circ.cx([j],[j+1])     #Aplica la cX entre los 2 próximos\n",
    "                    flag1=False            #Baja la bandera, así en la proxima iteración osalta el j+1\n",
    "\n",
    "         #Salto de un qubit para el cx           \n",
    "                  elif flag1==False:\n",
    "                    flag1=True             #Sube la bandera para que en la siguiente si se aplique el cX \n",
    "            capflag=False                  #Se baja la bandera de la capa para que se use el cx entre los restantes\n",
    "         \n",
    "        #Revisión para la capa con bandera falsa (cx para unitr los qubits)\n",
    "        elif capflag==False:\n",
    "            #Se aplicará cx hacia los pares de qubits que todavía no se han conectado\n",
    "            for w in range(0,qubits-1):\n",
    "                if flag2==True:\n",
    "                    circ.cx([w],[w+1])     #Aplica cx entre los 2 próximos al igual que la anterior\n",
    "                    flag2=False            #Baja la bandera, en la próxima iteración saltará la cx entre esos qubits\n",
    "                    \n",
    "                elif flag2==False:\n",
    "                    flag2=True             #Se sube la bandera para que no se aplique\n",
    "                   \n",
    "            capflag=True                   #Se retorna la bandera de la capa como verdadera nuevamente\n",
    "            \n",
    "           \n",
    "  #Extraemos el statevector del circuito directamente     \n",
    "  statevec=Statevector.from_instruction(circ).__array__()\n",
    "#   return statevec\n",
    "  return statevec,circ     #descomentar esta línea si se quiere retornar el circuito, dejarla comentada para la optimización \n",
    "                             # y procesos posteriores. \n",
    "    "
   ]
  },
  {
   "cell_type": "code",
   "execution_count": 8,
   "id": "9b2fbb39",
   "metadata": {},
   "outputs": [
    {
     "data": {
      "image/png": "[encoded data removed]",
      "text/plain": [
       "<Figure size 568.197x264.88 with 1 Axes>"
      ]
     },
     "execution_count": 8,
     "metadata": {},
     "output_type": "execute_result"
    }
   ],
   "source": [
    "#Como ejemplo para este circuito se tienen ciertos parametros para 3 qubits con 2 capas\n",
    "parametros=[1,2,3,4,5,6,7,8,9,10,11,12,13,14,15,16]\n",
    "\n",
    "a,b=circ_nqubits(4,4,parametros) #Para desplegar el circuito, descomentar la linea marcada en la función anterior\n",
    "b.draw()\n"
   ]
  },
  {
   "cell_type": "markdown",
   "id": "bb6be241",
   "metadata": {},
   "source": [
    "# Función de costo"
   ]
  },
  {
   "cell_type": "markdown",
   "id": "1114b732",
   "metadata": {},
   "source": [
    "La función de costo busca analizar el comportamiento de los valores de energía para los parámetros $\\vec \\theta$ que se estén pasando. \n",
    "\n",
    "$$ C(\\theta) = < \\psi(\\theta)| H | \\psi (\\theta) > .$$\n",
    "\n",
    "Su implementación será la unión de las dos implementaciones, siendo entonces"
   ]
  },
  {
   "cell_type": "code",
   "execution_count": 9,
   "id": "6233a5e7-c255-462b-bd6c-78a2a0019107",
   "metadata": {
    "id": "6233a5e7-c255-462b-bd6c-78a2a0019107"
   },
   "outputs": [],
   "source": [
    "#Función de costo\n",
    "    \n",
    "#Condiciones iniciales para la función \n",
    "qubits=6   #Se designa el número de qubits\n",
    "g=-0.2 #Se mira el valor de g\n",
    "capas=4    #Se establece el número de capas\n",
    "cost_por_iteracion=[]\n",
    "\n",
    "def cost_function(parametros):\n",
    "    #Se ejecutan las dos funciones anteriores y se obtiene el valor de la función de\n",
    "    # costo para este valor. \n",
    "    statevec=circ_nqubits(qubits,capas,parametros)\n",
    "    \n",
    "    # Calculamos la funcion de costo para ese set de parametros\n",
    "    cost_value=energia_ising(qubits,statevec,g)\n",
    "    cost_por_iteracion.append(cost_value.real)\n",
    "    return(cost_value.real)"
   ]
  },
  {
   "cell_type": "markdown",
   "id": "3c90d7bb",
   "metadata": {},
   "source": [
    "## Proceso de Optimización\n",
    "\n",
    "Para la optimización de la función de costo podemos minimzar aún más los valores de energía, siempre buscando obtener el valor mínimo para cada circuito con el número de capas fijo"
   ]
  },
  {
   "cell_type": "code",
   "execution_count": 10,
   "id": "jFOWqOfjphPY",
   "metadata": {
    "colab": {
     "base_uri": "https://localhost:8080/"
    },
    "id": "jFOWqOfjphPY",
    "outputId": "072962df-a3ff-4b5c-e1fc-f5e0b0631b58",
    "scrolled": true
   },
   "outputs": [
    {
     "name": "stdout",
     "output_type": "stream",
     "text": [
      "Traceback \u001b[1;36m(most recent call last)\u001b[0m:\n",
      "  File \u001b[0;32m\"/tmp/ipykernel_79/2414427078.py\"\u001b[0m, line \u001b[0;32m20\u001b[0m, in \u001b[0;35m<module>\u001b[0m\n",
      "    results = scipy.optimize.minimize(cost_function,parame2,method='COBYLA',options={'maxiter':maxitr,'disp': False})\n",
      "  File \u001b[0;32m\"/opt/conda/lib/python3.8/site-packages/scipy/optimize/_minimize.py\"\u001b[0m, line \u001b[0;32m629\u001b[0m, in \u001b[0;35mminimize\u001b[0m\n",
      "    return _minimize_cobyla(fun, x0, args, constraints, **options)\n",
      "  File \u001b[0;32m\"/opt/conda/lib/python3.8/site-packages/scipy/optimize/cobyla.py\"\u001b[0m, line \u001b[0;32m34\u001b[0m, in \u001b[0;35mwrapper\u001b[0m\n",
      "    return func(*args, **kwargs)\n",
      "  File \u001b[0;32m\"/opt/conda/lib/python3.8/site-packages/scipy/optimize/cobyla.py\"\u001b[0m, line \u001b[0;32m260\u001b[0m, in \u001b[0;35m_minimize_cobyla\u001b[0m\n",
      "    xopt, info = _cobyla.minimize(calcfc, m=m, x=np.copy(x0), rhobeg=rhobeg,\n",
      "  File \u001b[0;32m\"/opt/conda/lib/python3.8/site-packages/scipy/optimize/cobyla.py\"\u001b[0m, line \u001b[0;32m252\u001b[0m, in \u001b[0;35mcalcfc\u001b[0m\n",
      "    f = fun(np.copy(x), *args)\n",
      "  File \u001b[0;32m\"/tmp/ipykernel_79/1898739949.py\"\u001b[0m, line \u001b[0;32m15\u001b[0m, in \u001b[0;35mcost_function\u001b[0m\n",
      "    cost_value=energia_ising(qubits,statevec,g)\n",
      "\u001b[1;36m  File \u001b[1;32m\"/tmp/ipykernel_79/3754251941.py\"\u001b[1;36m, line \u001b[1;32m38\u001b[1;36m, in \u001b[1;35menergia_ising\u001b[1;36m\u001b[0m\n",
      "\u001b[1;33m    energia= energia + np.matmul( statevec,  np.matmul(qi.Pauli(parop[0]).to_matrix() , statevec) ) + g*np.matmul(statevec, np.matmul(qi.Pauli(parop[1]).to_matrix() , statevec) )\u001b[0m\n",
      "\u001b[1;31mValueError\u001b[0m\u001b[1;31m:\u001b[0m matmul: Input operand 1 has a mismatch in its core dimension 0, with gufunc signature (n?,k),(k,m?)->(n?,m?) (size 2 is different from 16)\n",
      "\n",
      "Use %tb to get the full traceback.\n"
     ]
    },
    {
     "name": "stderr",
     "output_type": "stream",
     "text": [
      "capi_return is NULL\n",
      "Call-back cb_calcfc_in__cobyla__user__routines failed.\n"
     ]
    },
    {
     "data": {
      "text/html": [
       "\n",
       "<style>\n",
       ".button {\n",
       "  border: none;\n",
       "  color: white;\n",
       "  padding: 4px 8px;\n",
       "  text-align: center;\n",
       "  text-decoration: none;\n",
       "  display: inline-block;\n",
       "  font-size: 12px;\n",
       "  margin: 4px 2px;\n",
       "  transition-duration: 0.2s;\n",
       "  cursor: pointer;\n",
       "}\n",
       ".iqx-button {\n",
       "  background-color: #0f62fe; \n",
       "  color: white; \n",
       "}\n",
       ".iqx-button:hover {\n",
       "  background-color: #0043ce;\n",
       "  color: white;\n",
       "}\n",
       "</style>\n",
       "<a href=\"https://stackoverflow.com/search?q=ValueError: matmul: Input operand 1 has a mismatch in its core dimension 0, with gufunc signature (n?,k),(k,m?)->(n?,m?) (size 2 is different from 16)\" target='_blank'><button class='button iqx-button'>Search for solution online</button></a>\n"
      ],
      "text/plain": [
       "<IPython.core.display.HTML object>"
      ]
     },
     "metadata": {},
     "output_type": "display_data"
    }
   ],
   "source": [
    "import scipy\n",
    "\n",
    "\n",
    "'''Proceso de optimización:\n",
    "Para optimizar en este segmento se procederá a utilizar scipy.optimize.minimize(), procurando que en cada iteración\n",
    "el valor de los parámetros \"parame2\", quien son los ángulos sean los valores obtenidos con el método optimize siempre\n",
    "y cuándo el valor actual sea menor al anterior (minimizar el valor de mínima energía)'''\n",
    "\n",
    "\n",
    "#Condiciones iniciales movibles:\n",
    "\n",
    "qubits=4   #Se designa el número de qubits\n",
    "g=-0.2 #Se mira el valor de g\n",
    "capas=10    #Se establece el número de capas\n",
    "cost_por_iteracion=[]\n",
    "maxitr=300\n",
    "\n",
    "\n",
    "parame2=np.random.rand(qubits*capas,1)*2*np.pi\n",
    "results = scipy.optimize.minimize(cost_function,parame2,method='COBYLA',options={'maxiter':maxitr,'disp': False}) \n",
    "cost_anterior=cost_por_iteracion\n",
    "parame2=results.x\n",
    "\n",
    "# #Iteraciones con minimización \n",
    "for i in range(1,10):\n",
    "#     print(len(cost_anterior))   #Debugging\n",
    "    cost_por_iteracion=[]\n",
    "    results = scipy.optimize.minimize(cost_function,parame2,method='COBYLA',options={'maxiter':maxitr,'disp': False}) \n",
    "    if cost_anterior[maxitr-1] > cost_por_iteracion[maxitr-1]:\n",
    "        print(cost_anterior[maxitr-1])\n",
    "        cost_anterior=cost_por_iteracion   \n",
    "        parame2=results.x "
   ]
  },
  {
   "cell_type": "markdown",
   "id": "81f50336",
   "metadata": {},
   "source": [
    "Es entonces que podemos observar como nuestra energía converge al valor teórico al optimizar los parámetros $\\vec{\\theta}$. "
   ]
  },
  {
   "cell_type": "code",
   "execution_count": 11,
   "id": "3b2fb09a",
   "metadata": {},
   "outputs": [
    {
     "name": "stdout",
     "output_type": "stream",
     "text": [
      "Traceback \u001b[1;36m(most recent call last)\u001b[0m:\n",
      "\u001b[1;36m  File \u001b[1;32m\"/tmp/ipykernel_79/3344147676.py\"\u001b[1;36m, line \u001b[1;32m4\u001b[1;36m, in \u001b[1;35m<module>\u001b[1;36m\u001b[0m\n",
      "\u001b[1;33m    plt.plot(cost_anterior,'g')\u001b[0m\n",
      "\u001b[1;31mNameError\u001b[0m\u001b[1;31m:\u001b[0m name 'cost_anterior' is not defined\n",
      "\n",
      "Use %tb to get the full traceback.\n"
     ]
    },
    {
     "data": {
      "text/html": [
       "\n",
       "<style>\n",
       ".button {\n",
       "  border: none;\n",
       "  color: white;\n",
       "  padding: 4px 8px;\n",
       "  text-align: center;\n",
       "  text-decoration: none;\n",
       "  display: inline-block;\n",
       "  font-size: 12px;\n",
       "  margin: 4px 2px;\n",
       "  transition-duration: 0.2s;\n",
       "  cursor: pointer;\n",
       "}\n",
       ".iqx-button {\n",
       "  background-color: #0f62fe; \n",
       "  color: white; \n",
       "}\n",
       ".iqx-button:hover {\n",
       "  background-color: #0043ce;\n",
       "  color: white;\n",
       "}\n",
       "</style>\n",
       "<a href=\"https://stackoverflow.com/search?q=NameError: name 'cost_anterior' is not defined\" target='_blank'><button class='button iqx-button'>Search for solution online</button></a>\n"
      ],
      "text/plain": [
       "<IPython.core.display.HTML object>"
      ]
     },
     "metadata": {},
     "output_type": "display_data"
    },
    {
     "data": {
      "text/plain": [
       "<Figure size 576x360 with 0 Axes>"
      ]
     },
     "metadata": {},
     "output_type": "display_data"
    }
   ],
   "source": [
    "import matplotlib.pyplot as plt\n",
    "\n",
    "fig=plt.figure(figsize=(8, 5))\n",
    "plt.plot(cost_anterior,'g')\n",
    "plt.xlabel(\"Iteración\",size=10)\n",
    "plt.ylabel(\"Energía Mínima \",size=10)\n",
    "# plt.xscale(\"log\")\n",
    "\n",
    "plt.axhline(y=H_teo(qubits,g), color='r', linestyle='-')\n",
    "plt.tight_layout()\n",
    "plt.grid()\n",
    "# fig.show()\n",
    "# cost_por_iteracion"
   ]
  },
  {
   "cell_type": "code",
   "execution_count": 12,
   "id": "0bac2e59",
   "metadata": {},
   "outputs": [
    {
     "name": "stdout",
     "output_type": "stream",
     "text": [
      "-3.06173\n",
      "Traceback \u001b[1;36m(most recent call last)\u001b[0m:\n",
      "\u001b[1;36m  File \u001b[1;32m\"/tmp/ipykernel_79/970679616.py\"\u001b[1;36m, line \u001b[1;32m2\u001b[1;36m, in \u001b[1;35m<module>\u001b[1;36m\u001b[0m\n",
      "\u001b[1;33m    print(float(\"{0:.5f}\".format(cost_anterior[maxitr-1])))\u001b[0m\n",
      "\u001b[1;31mNameError\u001b[0m\u001b[1;31m:\u001b[0m name 'cost_anterior' is not defined\n",
      "\n",
      "Use %tb to get the full traceback.\n"
     ]
    },
    {
     "data": {
      "text/html": [
       "\n",
       "<style>\n",
       ".button {\n",
       "  border: none;\n",
       "  color: white;\n",
       "  padding: 4px 8px;\n",
       "  text-align: center;\n",
       "  text-decoration: none;\n",
       "  display: inline-block;\n",
       "  font-size: 12px;\n",
       "  margin: 4px 2px;\n",
       "  transition-duration: 0.2s;\n",
       "  cursor: pointer;\n",
       "}\n",
       ".iqx-button {\n",
       "  background-color: #0f62fe; \n",
       "  color: white; \n",
       "}\n",
       ".iqx-button:hover {\n",
       "  background-color: #0043ce;\n",
       "  color: white;\n",
       "}\n",
       "</style>\n",
       "<a href=\"https://stackoverflow.com/search?q=NameError: name 'cost_anterior' is not defined\" target='_blank'><button class='button iqx-button'>Search for solution online</button></a>\n"
      ],
      "text/plain": [
       "<IPython.core.display.HTML object>"
      ]
     },
     "metadata": {},
     "output_type": "display_data"
    }
   ],
   "source": [
    "print( float(\"{0:.5f}\".format(H_teo(4,-0.2))))\n",
    "print(float(\"{0:.5f}\".format(cost_anterior[maxitr-1])))\n",
    "plt.plot([ float(\"{0:.2f}\".format(H_teo(4,-0.2))) , float(\"{0:.2f}\".format(cost_anterior[maxitr-1]))] , [1,2],'r*')"
   ]
  },
  {
   "cell_type": "markdown",
   "id": "b6c60acc",
   "metadata": {},
   "source": [
    "## Extracción de un dataset\n",
    "\n",
    "Ahora podemos extraer un dataset generando valores 'g' aleatorios de rango 0 a 1 y de rango 1 a 2 de tal forma que tengamos un dataset con el que podamos entrenar nuestra red neuronal. Para ello , usamos el siguiente código."
   ]
  },
  {
   "cell_type": "code",
   "execution_count": 12,
   "id": "641ece38",
   "metadata": {},
   "outputs": [],
   "source": [
    "def extra_dataset(num,rango,ges=None,params=None):\n",
    "    \"\"\"\n",
    "        Función designada para la extracción del dataset para el entrenamiento de la red neuronal. \n",
    "        \n",
    "        Entrada(s):\n",
    "        num: número de datos a extraer \n",
    "        rango: rango de datos para g. 0 --> [0,1] , 1--> [1,2]. Si este dato no se llena entonces\n",
    "               el número por defecto será 0. \n",
    "        ges: nombre del archivo de texto conteniendo los valores de g generados. Este parámetro debe ser del tipo string '' \n",
    "        params: nombre del archivo de texto conteniendo los parámetros theta usados para generar el circuito \n",
    "                optimizado. Este parámetro debe ser del tipo string ' '\n",
    "        \n",
    "        Salida(s):\n",
    "        Dos archivos de texto: \n",
    "        1. ges.txt (o el nombre que se le asigne a la variable ges): archivo de texto con valores de g generados. \n",
    "        2. params.txt (o el nombre que se le asigne a la variable params): archivo de texto con valores de los parámetros\n",
    "                                                                           theta guardados de todas las iteraciones. \n",
    "    \n",
    "    \"\"\"\n",
    "    #Condición de parámetros de archivos nulos. \n",
    "    if params==None:\n",
    "        params=\"params.txt\"\n",
    "    else:\n",
    "        params=params+\".txt\"\n",
    "        \n",
    "    if ges==None:\n",
    "        ges=\"ges.txt\"\n",
    "    else:\n",
    "        ges=ges+\".txt\"\n",
    "       \n",
    "    #Apertura de archivos de texto\n",
    "    f1 = open(ges, \"w\")\n",
    "    f2 = open(params,\"w\")\n",
    "    \n",
    "    #Proceso de guardado en archivo\n",
    "    for i in range(0,num):\n",
    "        \n",
    "        #Condiciones iniciales por iteración de optimización\n",
    "        cost_por_iteracion=[]\n",
    "        parame2=np.random.rand(qubits*capas,1)*2*np.pi\n",
    "        maxitr=300                #Número máximo de iteraciones en optimize\n",
    "        \n",
    "        #Condición inicial para g. \n",
    "        if rango==None:\n",
    "            g=np.random.uniform()\n",
    "        elif rango==0:\n",
    "            g=np.random.uniform()\n",
    "        elif rango==1:\n",
    "            g=np.random.uniform()+1\n",
    "\n",
    "        results = scipy.optimize.minimize(cost_function,parame2,method='COBYLA',options={'maxiter':maxitr,'disp': False}) \n",
    "\n",
    "        #Escritura en los archivos de texto\n",
    "        f1.write(str(float(\"{0:.10f}\".format(g))))  #Redacción de parámetros g en el primer archivo de texto\n",
    "        f1.write(\"\\n\")\n",
    "        \n",
    "        with open(params, \"ab\") as f:        #Escritura de parámetros theta en el segundo archivo de texto\n",
    "            numpy.savetxt(f, parame2)\n",
    "\n",
    "    f1.close()\n",
    "    f2.close()"
   ]
  },
  {
   "cell_type": "code",
   "execution_count": 150,
   "id": "f3f2d114",
   "metadata": {},
   "outputs": [
    {
     "name": "stdout",
     "output_type": "stream",
     "text": [
      "Traceback \u001b[1;36m(most recent call last)\u001b[0m:\n",
      "\u001b[1;36m  File \u001b[1;32m\"/tmp/ipykernel_60/2416349396.py\"\u001b[1;36m, line \u001b[1;32m6\u001b[1;36m, in \u001b[1;35m<module>\u001b[1;36m\u001b[0m\n",
      "\u001b[1;33m    extra_dataset(3,0,'ges0','params0')\u001b[0m\n",
      "\u001b[1;31mNameError\u001b[0m\u001b[1;31m:\u001b[0m name 'extra_dataset' is not defined\n",
      "\n",
      "Use %tb to get the full traceback.\n"
     ]
    },
    {
     "data": {
      "text/html": [
       "\n",
       "<style>\n",
       ".button {\n",
       "  border: none;\n",
       "  color: white;\n",
       "  padding: 4px 8px;\n",
       "  text-align: center;\n",
       "  text-decoration: none;\n",
       "  display: inline-block;\n",
       "  font-size: 12px;\n",
       "  margin: 4px 2px;\n",
       "  transition-duration: 0.2s;\n",
       "  cursor: pointer;\n",
       "}\n",
       ".iqx-button {\n",
       "  background-color: #0f62fe; \n",
       "  color: white; \n",
       "}\n",
       ".iqx-button:hover {\n",
       "  background-color: #0043ce;\n",
       "  color: white;\n",
       "}\n",
       "</style>\n",
       "<a href=\"https://stackoverflow.com/search?q=NameError: name 'extra_dataset' is not defined\" target='_blank'><button class='button iqx-button'>Search for solution online</button></a>\n"
      ],
      "text/plain": [
       "<IPython.core.display.HTML object>"
      ]
     },
     "metadata": {},
     "output_type": "display_data"
    }
   ],
   "source": [
    "#Extracción del dataset: \n",
    "\n",
    "#Condiciones iniciales \n",
    "qubits=6  \n",
    "capas=12  \n",
    "num=3\n",
    "extra_dataset(num,0,'ges0','params0')"
   ]
  },
  {
   "cell_type": "markdown",
   "id": "dcb2841c",
   "metadata": {},
   "source": [
    "Los datos entonces pueden ser leídos y trabajados con el código:"
   ]
  },
  {
   "cell_type": "code",
   "execution_count": 153,
   "id": "f8bd36e2",
   "metadata": {},
   "outputs": [],
   "source": [
    "ges=np.loadtxt(\"ges0.txt\")\n",
    "paramsfull=np.loadtxt(\"params0.txt\")\n",
    "paramsfull=np.reshape(paramsfull,(num,qubits*capas))"
   ]
  },
  {
   "cell_type": "code",
   "execution_count": 157,
   "id": "e42b821e",
   "metadata": {},
   "outputs": [],
   "source": [
    "costos=[]\n",
    "for i in range(0,num):\n",
    "    costos.append(cost_function(paramsfull[i]))"
   ]
  },
  {
   "cell_type": "code",
   "execution_count": 159,
   "id": "075b411b",
   "metadata": {},
   "outputs": [
    {
     "data": {
      "text/plain": [
       "[<matplotlib.lines.Line2D at 0x7f0aa27d8d00>]"
      ]
     },
     "execution_count": 159,
     "metadata": {},
     "output_type": "execute_result"
    },
    {
     "data": {
      "image/png": "[encoded data removed]",
      "text/plain": [
       "<Figure size 432x288 with 1 Axes>"
      ]
     },
     "metadata": {
      "needs_background": "light"
     },
     "output_type": "display_data"
    }
   ],
   "source": [
    "plt.plot(ges,costos)"
   ]
  },
  {
   "cell_type": "code",
   "execution_count": 200,
   "id": "216d7de6",
   "metadata": {},
   "outputs": [
    {
     "data": {
      "image/png": "[encoded data removed]",
      "text/plain": [
       "<Figure size 1531.4x385.28 with 1 Axes>"
      ]
     },
     "execution_count": 200,
     "metadata": {},
     "output_type": "execute_result"
    }
   ],
   "source": [
    "a,b=circ_nqubits(6,12,paramsfull[2])\n",
    "b.draw()"
   ]
  },
  {
   "cell_type": "code",
   "execution_count": 198,
   "id": "c4bfe593",
   "metadata": {},
   "outputs": [
    {
     "data": {
      "image/png": "[encoded data removed]",
      "text/plain": [
       "<Figure size 1591.6x806.68 with 1 Axes>"
      ]
     },
     "execution_count": 198,
     "metadata": {},
     "output_type": "execute_result"
    }
   ],
   "source": [
    "b.cx(0,1)\n",
    "b.draw()"
   ]
  },
  {
   "cell_type": "code",
   "execution_count": null,
   "id": "4e75467e",
   "metadata": {},
   "outputs": [],
   "source": []
  }
 ],
 "metadata": {
  "colab": {
   "collapsed_sections": [],
   "name": "ising.ipynb",
   "provenance": []
  },
  "kernelspec": {
   "display_name": "Qiskit v0.32.1 (ipykernel)",
   "language": "python",
   "name": "python3"
  },
  "language_info": {
   "codemirror_mode": {
    "name": "ipython",
    "version": 3
   },
   "file_extension": ".py",
   "mimetype": "text/x-python",
   "name": "python",
   "nbconvert_exporter": "python",
   "pygments_lexer": "ipython3",
   "version": "3.8.10"
  },
  "widgets": {
   "application/vnd.jupyter.widget-state+json": {
    "state": {
     "07a4428ec3ce4f11ab134709d0f60ec2": {
      "model_module": "@jupyter-widgets/controls",
      "model_module_version": "1.5.0",
      "model_name": "DescriptionStyleModel",
      "state": {
       "description_width": ""
      }
     },
     "158446ddaaf5449888a887bb4562668b": {
      "model_module": "@jupyter-widgets/controls",
      "model_module_version": "1.5.0",
      "model_name": "HTMLModel",
      "state": {
       "layout": "IPY_MODEL_1d2d538ae6fe4d3698aaba575396b5ab",
       "style": "IPY_MODEL_6198c0c1867d4445b526f291632db3a5",
       "value": "<h5>Message</h5>"
      }
     },
     "1d2d538ae6fe4d3698aaba575396b5ab": {
      "model_module": "@jupyter-widgets/base",
      "model_module_version": "1.2.0",
      "model_name": "LayoutModel",
      "state": {}
     },
     "2047f58c2d24466686f7d44ef2aa0e8b": {
      "model_module": "@jupyter-widgets/base",
      "model_module_version": "1.2.0",
      "model_name": "LayoutModel",
      "state": {
       "width": "190px"
      }
     },
     "2d91ede129c54939a88aec9e2413cd1a": {
      "model_module": "@jupyter-widgets/controls",
      "model_module_version": "1.5.0",
      "model_name": "HTMLModel",
      "state": {
       "layout": "IPY_MODEL_2047f58c2d24466686f7d44ef2aa0e8b",
       "style": "IPY_MODEL_d52b29688cfb4150b6efc2a758cdcfae",
       "value": "<h5>Job ID</h5>"
      }
     },
     "36f6014052a342d4824088685e9121e8": {
      "model_module": "@jupyter-widgets/controls",
      "model_module_version": "1.5.0",
      "model_name": "HTMLModel",
      "state": {
       "layout": "IPY_MODEL_6dacd9be944649b1affe74d4af26aa27",
       "style": "IPY_MODEL_07a4428ec3ce4f11ab134709d0f60ec2",
       "value": "<h5>Status</h5>"
      }
     },
     "4e2a5738c4a04db29e95a415216a4520": {
      "model_module": "@jupyter-widgets/controls",
      "model_module_version": "1.5.0",
      "model_name": "HTMLModel",
      "state": {
       "layout": "IPY_MODEL_7592e2b226dd4c38a5b81fdd32854dd4",
       "style": "IPY_MODEL_a6e8ed5221c542288693c299e98a15c1",
       "value": "<p style='font-family: IBM Plex Sans, Arial, Helvetica, sans-serif; font-size: 20px; font-weight: medium;'>Circuit Properties</p>"
      }
     },
     "5375cd90eb1f468c98cd88be4d6f135d": {
      "model_module": "@jupyter-widgets/controls",
      "model_module_version": "1.5.0",
      "model_name": "GridBoxModel",
      "state": {
       "children": [
        "IPY_MODEL_8bbb7b54b7a84c6b94e202b5bfc1cb4d"
       ],
       "layout": "IPY_MODEL_f1f44cfcc08f4f89abed167bff2a86e0"
      }
     },
     "6198c0c1867d4445b526f291632db3a5": {
      "model_module": "@jupyter-widgets/controls",
      "model_module_version": "1.5.0",
      "model_name": "DescriptionStyleModel",
      "state": {
       "description_width": ""
      }
     },
     "6dacd9be944649b1affe74d4af26aa27": {
      "model_module": "@jupyter-widgets/base",
      "model_module_version": "1.2.0",
      "model_name": "LayoutModel",
      "state": {
       "width": "95px"
      }
     },
     "700b4a4145404836842e88b5e646703b": {
      "model_module": "@jupyter-widgets/base",
      "model_module_version": "1.2.0",
      "model_name": "LayoutModel",
      "state": {
       "width": "145px"
      }
     },
     "7592e2b226dd4c38a5b81fdd32854dd4": {
      "model_module": "@jupyter-widgets/base",
      "model_module_version": "1.2.0",
      "model_name": "LayoutModel",
      "state": {
       "margin": "0px 0px 10px 0px"
      }
     },
     "889f869be2c14362b3856013cabbbb01": {
      "model_module": "@jupyter-widgets/base",
      "model_module_version": "1.2.0",
      "model_name": "LayoutModel",
      "state": {
       "margin": "0px 0px 0px 37px",
       "width": "600px"
      }
     },
     "8bbb7b54b7a84c6b94e202b5bfc1cb4d": {
      "model_module": "@jupyter-widgets/controls",
      "model_module_version": "1.5.0",
      "model_name": "ButtonModel",
      "state": {
       "button_style": "primary",
       "description": "Clear",
       "layout": "IPY_MODEL_daa1d87deee941158ea552806b838174",
       "style": "IPY_MODEL_d1afbbe1861c4f91b6a656d65e391aeb"
      }
     },
     "a02a8e7da7cb4083b8584dee557ec6e6": {
      "model_module": "@jupyter-widgets/base",
      "model_module_version": "1.2.0",
      "model_name": "LayoutModel",
      "state": {
       "width": "70px"
      }
     },
     "a6e8ed5221c542288693c299e98a15c1": {
      "model_module": "@jupyter-widgets/controls",
      "model_module_version": "1.5.0",
      "model_name": "DescriptionStyleModel",
      "state": {
       "description_width": ""
      }
     },
     "d1afbbe1861c4f91b6a656d65e391aeb": {
      "model_module": "@jupyter-widgets/controls",
      "model_module_version": "1.5.0",
      "model_name": "ButtonStyleModel",
      "state": {}
     },
     "d52b29688cfb4150b6efc2a758cdcfae": {
      "model_module": "@jupyter-widgets/controls",
      "model_module_version": "1.5.0",
      "model_name": "DescriptionStyleModel",
      "state": {
       "description_width": ""
      }
     },
     "d5d276c02bd54a85aeeddb4a9f0091c2": {
      "model_module": "@jupyter-widgets/controls",
      "model_module_version": "1.5.0",
      "model_name": "HTMLModel",
      "state": {
       "layout": "IPY_MODEL_700b4a4145404836842e88b5e646703b",
       "style": "IPY_MODEL_edfd5fa3c98f408097c6f31322ee3e5a",
       "value": "<h5>Backend</h5>"
      }
     },
     "d88a973358804932be46007dc9939a6b": {
      "model_module": "@jupyter-widgets/controls",
      "model_module_version": "1.5.0",
      "model_name": "HTMLModel",
      "state": {
       "layout": "IPY_MODEL_a02a8e7da7cb4083b8584dee557ec6e6",
       "style": "IPY_MODEL_eec5818e22b14d6d8280d3bfcaaa6503",
       "value": "<h5>Queue</h5>"
      }
     },
     "daa1d87deee941158ea552806b838174": {
      "model_module": "@jupyter-widgets/base",
      "model_module_version": "1.2.0",
      "model_name": "LayoutModel",
      "state": {
       "grid_area": "right",
       "padding": "0px 0px 0px 0px",
       "width": "70px"
      }
     },
     "e91798f0e41941cd8f179f3b20052dcb": {
      "model_module": "@jupyter-widgets/controls",
      "model_module_version": "1.5.0",
      "model_name": "HBoxModel",
      "state": {
       "children": [
        "IPY_MODEL_2d91ede129c54939a88aec9e2413cd1a",
        "IPY_MODEL_d5d276c02bd54a85aeeddb4a9f0091c2",
        "IPY_MODEL_36f6014052a342d4824088685e9121e8",
        "IPY_MODEL_d88a973358804932be46007dc9939a6b",
        "IPY_MODEL_158446ddaaf5449888a887bb4562668b"
       ],
       "layout": "IPY_MODEL_889f869be2c14362b3856013cabbbb01"
      }
     },
     "edfd5fa3c98f408097c6f31322ee3e5a": {
      "model_module": "@jupyter-widgets/controls",
      "model_module_version": "1.5.0",
      "model_name": "DescriptionStyleModel",
      "state": {
       "description_width": ""
      }
     },
     "eec5818e22b14d6d8280d3bfcaaa6503": {
      "model_module": "@jupyter-widgets/controls",
      "model_module_version": "1.5.0",
      "model_name": "DescriptionStyleModel",
      "state": {
       "description_width": ""
      }
     },
     "f1f44cfcc08f4f89abed167bff2a86e0": {
      "model_module": "@jupyter-widgets/base",
      "model_module_version": "1.2.0",
      "model_name": "LayoutModel",
      "state": {
       "grid_template_areas": "\n                                       \". . . . right \"\n                                        ",
       "grid_template_columns": "20% 20% 20% 20% 20%",
       "width": "100%"
      }
     }
    },
    "version_major": 2,
    "version_minor": 0
   }
  }
 },
 "nbformat": 4,
 "nbformat_minor": 5
}
