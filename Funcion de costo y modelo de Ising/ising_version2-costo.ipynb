{
 "cells": [
  {
   "cell_type": "code",
   "execution_count": 1,
   "id": "d9688336",
   "metadata": {
    "id": "d9688336"
   },
   "outputs": [],
   "source": [
    "import numpy as np\n",
    "# Importing standard Qiskit libraries\n",
    "from qiskit import QuantumCircuit, transpile, Aer, IBMQ\n",
    "from qiskit.tools.jupyter import *\n",
    "from qiskit.visualization import *"
   ]
  },
  {
   "cell_type": "code",
   "execution_count": 2,
   "id": "ee2ec27c",
   "metadata": {
    "id": "ee2ec27c"
   },
   "outputs": [],
   "source": [
    "#Importación de librerías\n",
    "\n",
    "#!pip install qiskit ipywidgets    correr esta línea de primero si se trabaja en google collab\n",
    "#Importación de qiskit\n",
    "from qiskit import *\n",
    "\n",
    "%matplotlib inline\n",
    "from matplotlib import *\n",
    "\n",
    "#Se importa quantum_info para poder trabajar con herramientas útiles como las matríces de pauli y elementos para trabajar\n",
    "# con operadores.\n",
    "import qiskit.quantum_info as qi\n",
    "from qiskit.quantum_info import *\n",
    "\n",
    "#Simplemente para que no se vean los warning\n",
    "import warnings\n",
    "warnings.filterwarnings(\"ignore\", category=UserWarning)\n",
    "\n",
    "#Librerías matemáticas importantes\n",
    "import numpy as np\n",
    "import matplotlib.pyplot as plt"
   ]
  },
  {
   "cell_type": "markdown",
   "id": "b8c69836",
   "metadata": {},
   "source": [
    "# Energía para el modelo de Ising"
   ]
  },
  {
   "cell_type": "markdown",
   "id": "eaee601b",
   "metadata": {},
   "source": [
    "El Hamiltoniano que describe al modelo de Ising se puede ver mediante la siguiente ecuación\n",
    "$$ H = \\sum_i^n \\sigma_i^z \\sigma_{i+1}^z+  g \\sum_i^{n+1} \\sigma_i^x   .$$\n",
    "\n",
    "Entonces, es posible encontrar el valor promedio del hamiltoniano de la forma\n",
    "$$  < \\psi| H | \\psi> = \\sum_i^n <\\psi|\\sigma_i^z \\sigma_{i+1}^z|\\psi>  + g\\sum_i^{n+1}<\\psi| \\sigma_i^x |\\psi> $$\n",
    "\n",
    "que es el nivel de energía correspondiente a esa función de onda $| \\psi >$\n",
    "\n",
    "El siguiente código busca esa implementación"
   ]
  },
  {
   "cell_type": "code",
   "execution_count": 3,
   "id": "014466dc",
   "metadata": {},
   "outputs": [],
   "source": [
    "def energia_ising(qubits,statevec,g):\n",
    "    \"\"\"  Energia para el Hamiltoniano del modelo de Ising para una función de onda:\n",
    "    \n",
    "         Esta función calcula la energía o valor promedio del Hamiltoniano perteneciente al \n",
    "         modelo de Ising para una función de estado otorgada y una constante g también \n",
    "         arbitraria. \n",
    "    \n",
    "    Entrada(s): \n",
    "        statevec: vector de estado correspondiente a n-qubits que se están tratando. \n",
    "        g= constante real entera g como parte del Hamiltoniano\n",
    "    \n",
    "    \"\"\"\n",
    "    energia=0\n",
    "    \n",
    "    #Se itera por cada qubit hasta n-1 (sumatoria en sigmaz sigmaz+1)\n",
    "    for i in range(0,qubits-1):\n",
    "        \n",
    "        parop=['','','']                   \n",
    "        \n",
    "        #Iteración sobre cada i-ésimo agregando la Identidad en el producto tensorial para la sumatoria de sigmaz,sigmax\n",
    "        for j in range(0,i):\n",
    "            parop[0]= parop[0] + 'I'\n",
    "            parop[1]= parop[1] + 'I'\n",
    "\n",
    "        #Se agrega ZZ como X en cada iteración\n",
    "        parop[0] = parop[0] + 'ZZ'\n",
    "        parop[1] = parop[1] + 'X'\n",
    "\n",
    "        \n",
    "        #Se agrega el tensor con la identidad para completar la dimensión del esatdo\n",
    "        for w in range(i+2,qubits):\n",
    "            parop[0] = parop[0]+'I'\n",
    "        for q in range(i+1,qubits):\n",
    "            parop[1] = parop[1]+'I'\n",
    "            \n",
    "            \n",
    "        #Se encuentra el valor de energía para la i-ésima iteración, se suma al valor anterior\n",
    "        energia= energia + np.matmul( statevec,  np.matmul(qi.Pauli(parop[0]).to_matrix() , statevec) ) + g*np.matmul(statevec, np.matmul(qi.Pauli(parop[1]).to_matrix() , statevec) )\n",
    "        \n",
    "        #Ya que la sumatoria recorre la de sigmaz, falta agregar un último término de sigmax,aquí se agrega\n",
    "        if i==qubits-2:\n",
    "            for k in range(0,i+1):\n",
    "                parop[2]= parop[2] + 'I'\n",
    "            parop[2]= parop[2]+ 'X'\n",
    "            energia = energia + g*np.matmul(statevec, np.matmul(qi.Pauli(parop[2]).to_matrix(),statevec) ) #Se suma a la función de costo\n",
    "        \n",
    "          #Debugging\n",
    "#         print(parop[0],parop[1],parop[2])  \n",
    "#         print(energia)\n",
    "        \n",
    "    return energia"
   ]
  },
  {
   "cell_type": "code",
   "execution_count": 4,
   "id": "0811cfb4",
   "metadata": {
    "scrolled": true
   },
   "outputs": [
    {
     "data": {
      "text/plain": [
       "(104+0j)"
      ]
     },
     "execution_count": 4,
     "metadata": {},
     "output_type": "execute_result"
    }
   ],
   "source": [
    "#Si por ejeemplo se tiene un estado que representa a 2 qubits (este caso no esta normalizado, tomarlo en cuenta)\n",
    "#el código nos regresará su energía correspondiente\n",
    "statevec=np.array([1,2,3,4])\n",
    "energia_ising(2,statevec,2)"
   ]
  },
  {
   "cell_type": "code",
   "execution_count": 4,
   "id": "ktzIvMETqmVv",
   "metadata": {
    "colab": {
     "base_uri": "https://localhost:8080/"
    },
    "collapsed": true,
    "id": "ktzIvMETqmVv",
    "outputId": "3dbfd1a0-210c-4576-df3c-dcaf2a4e91a2"
   },
   "outputs": [
    {
     "ename": "KeyboardInterrupt",
     "evalue": "",
     "output_type": "error",
     "traceback": [
      "\u001b[0;31m---------------------------------------------------------------------------\u001b[0m",
      "\u001b[0;31mKeyboardInterrupt\u001b[0m                         Traceback (most recent call last)",
      "\u001b[0;32m/opt/conda/lib/python3.8/site-packages/IPython/core/async_helpers.py\u001b[0m in \u001b[0;36m_pseudo_sync_runner\u001b[0;34m(coro)\u001b[0m\n\u001b[1;32m     66\u001b[0m     \"\"\"\n\u001b[1;32m     67\u001b[0m     \u001b[0;32mtry\u001b[0m\u001b[0;34m:\u001b[0m\u001b[0;34m\u001b[0m\u001b[0;34m\u001b[0m\u001b[0m\n\u001b[0;32m---> 68\u001b[0;31m         \u001b[0mcoro\u001b[0m\u001b[0;34m.\u001b[0m\u001b[0msend\u001b[0m\u001b[0;34m(\u001b[0m\u001b[0;32mNone\u001b[0m\u001b[0;34m)\u001b[0m\u001b[0;34m\u001b[0m\u001b[0;34m\u001b[0m\u001b[0m\n\u001b[0m\u001b[1;32m     69\u001b[0m     \u001b[0;32mexcept\u001b[0m \u001b[0mStopIteration\u001b[0m \u001b[0;32mas\u001b[0m \u001b[0mexc\u001b[0m\u001b[0;34m:\u001b[0m\u001b[0;34m\u001b[0m\u001b[0;34m\u001b[0m\u001b[0m\n\u001b[1;32m     70\u001b[0m         \u001b[0;32mreturn\u001b[0m \u001b[0mexc\u001b[0m\u001b[0;34m.\u001b[0m\u001b[0mvalue\u001b[0m\u001b[0;34m\u001b[0m\u001b[0;34m\u001b[0m\u001b[0m\n",
      "\u001b[0;32m/opt/conda/lib/python3.8/site-packages/IPython/core/interactiveshell.py\u001b[0m in \u001b[0;36mrun_cell_async\u001b[0;34m(self, raw_cell, store_history, silent, shell_futures, transformed_cell, preprocessing_exc_tuple)\u001b[0m\n\u001b[1;32m   3093\u001b[0m         \u001b[0;31m# Store raw and processed history\u001b[0m\u001b[0;34m\u001b[0m\u001b[0;34m\u001b[0m\u001b[0;34m\u001b[0m\u001b[0m\n\u001b[1;32m   3094\u001b[0m         \u001b[0;32mif\u001b[0m \u001b[0mstore_history\u001b[0m\u001b[0;34m:\u001b[0m\u001b[0;34m\u001b[0m\u001b[0;34m\u001b[0m\u001b[0m\n\u001b[0;32m-> 3095\u001b[0;31m             self.history_manager.store_inputs(self.execution_count,\n\u001b[0m\u001b[1;32m   3096\u001b[0m                                               cell, raw_cell)\n\u001b[1;32m   3097\u001b[0m         \u001b[0;32mif\u001b[0m \u001b[0;32mnot\u001b[0m \u001b[0msilent\u001b[0m\u001b[0;34m:\u001b[0m\u001b[0;34m\u001b[0m\u001b[0;34m\u001b[0m\u001b[0m\n",
      "\u001b[0;32m/opt/conda/lib/python3.8/site-packages/IPython/core/history.py\u001b[0m in \u001b[0;36mstore_inputs\u001b[0;34m(self, line_num, source, source_raw)\u001b[0m\n\u001b[1;32m    717\u001b[0m         \u001b[0mself\u001b[0m\u001b[0;34m.\u001b[0m\u001b[0minput_hist_raw\u001b[0m\u001b[0;34m.\u001b[0m\u001b[0mappend\u001b[0m\u001b[0;34m(\u001b[0m\u001b[0msource_raw\u001b[0m\u001b[0;34m)\u001b[0m\u001b[0;34m\u001b[0m\u001b[0;34m\u001b[0m\u001b[0m\n\u001b[1;32m    718\u001b[0m \u001b[0;34m\u001b[0m\u001b[0m\n\u001b[0;32m--> 719\u001b[0;31m         \u001b[0;32mwith\u001b[0m \u001b[0mself\u001b[0m\u001b[0;34m.\u001b[0m\u001b[0mdb_input_cache_lock\u001b[0m\u001b[0;34m:\u001b[0m\u001b[0;34m\u001b[0m\u001b[0;34m\u001b[0m\u001b[0m\n\u001b[0m\u001b[1;32m    720\u001b[0m             \u001b[0mself\u001b[0m\u001b[0;34m.\u001b[0m\u001b[0mdb_input_cache\u001b[0m\u001b[0;34m.\u001b[0m\u001b[0mappend\u001b[0m\u001b[0;34m(\u001b[0m\u001b[0;34m(\u001b[0m\u001b[0mline_num\u001b[0m\u001b[0;34m,\u001b[0m \u001b[0msource\u001b[0m\u001b[0;34m,\u001b[0m \u001b[0msource_raw\u001b[0m\u001b[0;34m)\u001b[0m\u001b[0;34m)\u001b[0m\u001b[0;34m\u001b[0m\u001b[0;34m\u001b[0m\u001b[0m\n\u001b[1;32m    721\u001b[0m             \u001b[0;31m# Trigger to flush cache and write to DB.\u001b[0m\u001b[0;34m\u001b[0m\u001b[0;34m\u001b[0m\u001b[0;34m\u001b[0m\u001b[0m\n",
      "\u001b[0;31mKeyboardInterrupt\u001b[0m: "
     ]
    }
   ],
   "source": [
    "# Marco - podemos verificar cual es la menor energia calculando los autovalores del Hamiltoniano. \n",
    "# Vemos que el autovalor mas pequenio es -1.41421356\n",
    "\n",
    "H = S_zz + g*(S_x_1+S_x_2)\n",
    "\n",
    "numpy.linalg.eig(H)"
   ]
  },
  {
   "cell_type": "markdown",
   "id": "a4b77dc8",
   "metadata": {},
   "source": [
    "# Generador de circuitos para n qubits"
   ]
  },
  {
   "cell_type": "markdown",
   "id": "02a7408c",
   "metadata": {},
   "source": [
    "Definiremos los parámetros theta que son interpretados como rotaciones en un circuito en el eje y, estos caracterizan por un vector $\\vec{\\theta}$, por lo que nuestro circuito dependerá de ese parámtetro. El código siguiente busca esa implementación"
   ]
  },
  {
   "cell_type": "code",
   "execution_count": 251,
   "id": "3945ec64",
   "metadata": {},
   "outputs": [],
   "source": [
    "def circ_nqubits(qubits,capas,parametros):\n",
    "  \"\"\" Circuito para modelo de Ising:\n",
    "  \n",
    "      La función circ_nqubits genera un circuito para un número n de qubits\n",
    "      con un número n de capas que el usuario desee implementar. Para esto es necesaria\n",
    "      una matriz con los parámetros theta de dimensión  qubits x capas. \n",
    "      \n",
    "  Entrada(s):\n",
    "      qubits: el número de qubits a analizar. \n",
    "      capas: el número de capas para el ansatz del circuito. \n",
    "      parámetros: vector de dimension capasxparametros conteniendo rotaciones.  \n",
    "  \n",
    "  Salida(s): \n",
    "      circ: objeto de tipo QuantumCircuit conteniendo las instrucciones del circuito cuántico para IBM, como Qiskit.\n",
    "      Statevector: vector de estado resultante del circuito.  \n",
    "  \n",
    "  \n",
    "  \"\"\"\n",
    "  parametros = np.transpose(np.reshape(parametros,(capas,qubits)))  #Se escribe nuestro vector de parámetros como una matriz. \n",
    "  circ=QuantumCircuit(qubits)              #Inicilización del circuito\n",
    "  \n",
    " \n",
    "  capflag=True                             #Condición inicial de la bandera de cada capa\n",
    "\n",
    "  for i in range(0,capas):\n",
    "        \n",
    "        flag1=True                         #Condiciones iniciales de las banderas para los cx\n",
    "        flag2=False\n",
    "        \n",
    "        \n",
    "        #Rotaciones parametrizadas al inicio de la capa\n",
    "        for j in range(0,qubits):\n",
    "             circ.ry(parametros[j][i],[j]) #Se aplica una rotación de las componentes de la matríz \n",
    "        \n",
    "        \n",
    "        #Revisión para la capa con bandera verdadera\n",
    "        if capflag==True:\n",
    "            #Se aplicará la cX a cada par de qubits, dejando uno como espacio. \n",
    "            for j in range(0,qubits-1):\n",
    "                  if flag1==True: \n",
    "                    circ.cx([j],[j+1])     #Aplica la cX entre los 2 próximos\n",
    "                    flag1=False            #Baja la bandera, así en la proxima iteración osalta el j+1\n",
    "\n",
    "         #Salto de un qubit para el cx           \n",
    "                  elif flag1==False:\n",
    "                    flag1=True             #Sube la bandera para que en la siguiente si se aplique el cX \n",
    "            capflag=False                  #Se baja la bandera de la capa para que se use el cx entre los restantes\n",
    "         \n",
    "        #Revisión para la capa con bandera falsa (cx para unitr los qubits)\n",
    "        elif capflag==False:\n",
    "            #Se aplicará cx hacia los pares de qubits que todavía no se han conectado\n",
    "            for w in range(0,qubits-1):\n",
    "                if flag2==True:\n",
    "                    circ.cx([w],[w+1])     #Aplica cx entre los 2 próximos al igual que la anterior\n",
    "                    flag2=False            #Baja la bandera, en la próxima iteración saltará la cx entre esos qubits\n",
    "                    \n",
    "                elif flag2==False:\n",
    "                    flag2=True             #Se sube la bandera para que no se aplique\n",
    "                   \n",
    "            capflag=True                   #Se retorna la bandera de la capa como verdadera nuevamente\n",
    "            \n",
    "           \n",
    "  #Extraemos el statevector del circuito directamente     \n",
    "  statevec=Statevector.from_instruction(circ).__array__()\n",
    "  return statevec  \n",
    "    "
   ]
  },
  {
   "cell_type": "code",
   "execution_count": 252,
   "id": "9b2fbb39",
   "metadata": {},
   "outputs": [
    {
     "data": {
      "text/plain": [
       "array([-0.16375574+0.j,  0.11557204+0.j, -0.09508431+0.j,  0.28742526+0.j,\n",
       "       -0.75938973+0.j,  0.53594594+0.j, -0.0205041 +0.j,  0.06198074+0.j])"
      ]
     },
     "execution_count": 252,
     "metadata": {},
     "output_type": "execute_result"
    }
   ],
   "source": [
    "#Como ejemplo para este circuito se tienen ciertos parametros para 3 qubits con 2 capas\n",
    "parametros=[1,2,3,4,5,6]\n",
    "\n",
    "circ_nqubits(3,2,parametros)\n"
   ]
  },
  {
   "cell_type": "markdown",
   "id": "bb6be241",
   "metadata": {},
   "source": [
    "# Función de costo"
   ]
  },
  {
   "cell_type": "markdown",
   "id": "1114b732",
   "metadata": {},
   "source": [
    "La función de costo busca analizar el comportamiento de los valores de energía para los parámetros $\\vec \\theta$ que se estén pasando. Ella se peude ver de la forma\n",
    "\n",
    "$$ C(\\theta) = < \\psi(\\theta)| H | \\psi (\\theta) > .$$\n",
    "\n",
    "Para obtenerla entonces ahora basta con unir las dos implementaciones anteriores resultando el el siguiente código"
   ]
  },
  {
   "cell_type": "code",
   "execution_count": 253,
   "id": "6233a5e7-c255-462b-bd6c-78a2a0019107",
   "metadata": {
    "id": "6233a5e7-c255-462b-bd6c-78a2a0019107"
   },
   "outputs": [],
   "source": [
    "#Función de costo\n",
    "def cost_function(parametros):\n",
    "    qubits=3   #Se designa el número de qubits\n",
    "    g=0.5      #Se mira el valor de g\n",
    "    capas=3    #Se establece el número de capas\n",
    "    \n",
    "    #Se ejecutan las dos funciones anteriores y se obtiene el valor de la función de\n",
    "    # costo para este valor. \n",
    "    statevec=circ_nqubits(qubits,capas,parametros)\n",
    "    \n",
    "    # Calculamos la funcion de costo para ese set de parametros\n",
    "    cost_value=energia_ising(qubits,statevec,g)\n",
    "  \n",
    "    return(cost_value.real)"
   ]
  },
  {
   "cell_type": "code",
   "execution_count": 254,
   "id": "jFOWqOfjphPY",
   "metadata": {
    "colab": {
     "base_uri": "https://localhost:8080/"
    },
    "id": "jFOWqOfjphPY",
    "outputId": "072962df-a3ff-4b5c-e1fc-f5e0b0631b58"
   },
   "outputs": [
    {
     "data": {
      "text/plain": [
       "     fun: -2.3192235156781327\n",
       "   maxcv: 0.0\n",
       " message: 'Maximum number of function evaluations has been exceeded.'\n",
       "    nfev: 300\n",
       "  status: 2\n",
       " success: False\n",
       "       x: array([[5.82697113],\n",
       "       [3.38688546],\n",
       "       [6.10694859],\n",
       "       [5.32641472],\n",
       "       [6.49373025],\n",
       "       [4.70726894],\n",
       "       [3.67042956],\n",
       "       [7.13160875],\n",
       "       [5.08485954]])"
      ]
     },
     "execution_count": 254,
     "metadata": {},
     "output_type": "execute_result"
    }
   ],
   "source": [
    "# Marco - Ahora tenemos que entrenar los parametros, para esto usamos un optimmizador de python, por ejemplo\n",
    "\n",
    "import scipy\n",
    "\n",
    "#Condiciones iniciales\n",
    "parame2=np.random.rand(9,1)*2*np.pi\n",
    "scipy.optimize.minimize(cost_function,parame2,method='COBYLA',options={'maxiter':300})\n"
   ]
  }
 ],
 "metadata": {
  "colab": {
   "collapsed_sections": [],
   "name": "ising.ipynb",
   "provenance": []
  },
  "kernelspec": {
   "display_name": "Qiskit v0.30.1 (ipykernel)",
   "language": "python",
   "name": "python3"
  },
  "language_info": {
   "codemirror_mode": {
    "name": "ipython",
    "version": 3
   },
   "file_extension": ".py",
   "mimetype": "text/x-python",
   "name": "python",
   "nbconvert_exporter": "python",
   "pygments_lexer": "ipython3",
   "version": "3.8.10"
  }
 },
 "nbformat": 4,
 "nbformat_minor": 5
}
